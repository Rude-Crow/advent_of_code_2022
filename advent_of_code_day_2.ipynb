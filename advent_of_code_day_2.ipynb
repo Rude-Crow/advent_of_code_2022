{
 "cells": [
  {
   "cell_type": "code",
   "execution_count": 74,
   "metadata": {},
   "outputs": [
    {
     "name": "stdout",
     "output_type": "stream",
     "text": [
      "12794\n"
     ]
    }
   ],
   "source": [
    "with open(\"input_day_2.txt\") as input_string:\n",
    "    input_list = list(input_string)\n",
    "    cleaned_list = []\n",
    "    for i in input_list: \n",
    "        cleaned_list.append(i.removesuffix('\\n'))\n",
    "    \n",
    "    total_score = 0\n",
    "    round_outcome = 0 #0 for loss, 3 for draw, 6 for win\n",
    "    for i in cleaned_list:\n",
    "        game_round = i.split(' ')\n",
    "        if game_round[0] == 'A': #rock\n",
    "            game_round[0] = 1\n",
    "        elif game_round[0] == 'B': # paper\n",
    "            game_round[0] = 2\n",
    "        elif game_round[0] == 'C': #scissors\n",
    "            game_round[0] = 3\n",
    "\n",
    "        if game_round[1] == 'X': #rock\n",
    "            game_round[1] = 1\n",
    "        elif game_round[1] == 'Y': #paper\n",
    "            game_round[1] = 2\n",
    "        elif game_round[1] == 'Z': #scissors\n",
    "            game_round[1] = 3\n",
    "\n",
    "        #player is game_round pos 1, opponent is pos 0\n",
    "\n",
    "        if game_round[1] == game_round[0]: #draw\n",
    "            round_outcome = 3\n",
    "        elif game_round[1] == 1 and game_round[0] == 2 or game_round[1] == 2 and game_round[0] == 3 or game_round[1] == 3 and game_round[0] == 1: #loss\n",
    "            round_outcome = 0\n",
    "        elif game_round[1] == 2 and game_round[0] == 1 or game_round[1] == 3 and game_round[0] == 2 or game_round[1] == 1 and game_round[0] == 3: #win\n",
    "            round_outcome = 6\n",
    "        \n",
    "        total_score = total_score + game_round[1] + round_outcome\n",
    "\n",
    "    print(total_score)\n"
   ]
  },
  {
   "cell_type": "code",
   "execution_count": 75,
   "metadata": {},
   "outputs": [
    {
     "name": "stdout",
     "output_type": "stream",
     "text": [
      "14979\n"
     ]
    }
   ],
   "source": [
    "with open(\"input_day_2.txt\") as input_string:\n",
    "    input_list = list(input_string)\n",
    "    cleaned_list = []\n",
    "    for i in input_list: \n",
    "        cleaned_list.append(i.removesuffix('\\n'))\n",
    "    \n",
    "    total_score = 0\n",
    "    round_outcome = 0 #0 for loss, 3 for draw, 6 for win\n",
    "    for i in cleaned_list:\n",
    "        game_round = i.split(' ')\n",
    "        if game_round[0] == 'A': #rock\n",
    "            game_round[0] = 1\n",
    "        elif game_round[0] == 'B': # paper\n",
    "            game_round[0] = 2\n",
    "        elif game_round[0] == 'C': #scissors\n",
    "            game_round[0] = 3\n",
    "\n",
    "        if game_round[1] == 'X': #lose\n",
    "            if game_round[0] == 1:\n",
    "                game_round[1] = 3\n",
    "            elif game_round[0] == 2:\n",
    "                game_round[1] = 1\n",
    "            elif game_round[0] == 3:\n",
    "                game_round[1] = 2\n",
    "        elif game_round[1] == 'Y': #draw\n",
    "            game_round[1] = game_round[0]\n",
    "        elif game_round[1] == 'Z': #win\n",
    "            if game_round[0] == 1:\n",
    "                game_round[1] = 2\n",
    "            elif game_round[0] == 2:\n",
    "                game_round[1] = 3\n",
    "            elif game_round[0] == 3:\n",
    "                game_round[1] = 1\n",
    "\n",
    "        #player is game_round pos 1, opponent is pos 0\n",
    "\n",
    "        if game_round[1] == game_round[0]: #draw\n",
    "            round_outcome = 3\n",
    "        elif game_round[1] == 1 and game_round[0] == 2 or game_round[1] == 2 and game_round[0] == 3 or game_round[1] == 3 and game_round[0] == 1: #loss\n",
    "            round_outcome = 0\n",
    "        elif game_round[1] == 2 and game_round[0] == 1 or game_round[1] == 3 and game_round[0] == 2 or game_round[1] == 1 and game_round[0] == 3: #win\n",
    "            round_outcome = 6\n",
    "        \n",
    "        total_score = total_score + game_round[1] + round_outcome\n",
    "\n",
    "    print(total_score)"
   ]
  }
 ],
 "metadata": {
  "kernelspec": {
   "display_name": "Python 3.10.7 64-bit",
   "language": "python",
   "name": "python3"
  },
  "language_info": {
   "codemirror_mode": {
    "name": "ipython",
    "version": 3
   },
   "file_extension": ".py",
   "mimetype": "text/x-python",
   "name": "python",
   "nbconvert_exporter": "python",
   "pygments_lexer": "ipython3",
   "version": "3.10.7"
  },
  "orig_nbformat": 4,
  "vscode": {
   "interpreter": {
    "hash": "916dbcbb3f70747c44a77c7bcd40155683ae19c65e1c03b4aa3499c5328201f1"
   }
  }
 },
 "nbformat": 4,
 "nbformat_minor": 2
}
