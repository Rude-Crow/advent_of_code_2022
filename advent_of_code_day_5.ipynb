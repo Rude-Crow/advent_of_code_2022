{
 "cells": [
  {
   "cell_type": "code",
   "execution_count": 156,
   "metadata": {},
   "outputs": [
    {
     "name": "stdout",
     "output_type": "stream",
     "text": [
      "HBTMTBSDC\n"
     ]
    }
   ],
   "source": [
    "crates = {\n",
    "    1:[\"R\",\"N\",\"P\",\"G\",],\n",
    "    2:[\"T\",\"J\",\"B\",\"L\",\"C\",\"S\",\"V\",\"H\",],\n",
    "    3:[\"T\",\"D\",\"B\",\"M\",\"N\",\"L\",],\n",
    "    4:[\"R\",\"V\",\"P\",\"S\",\"B\",],\n",
    "    5:[\"G\",\"C\",\"Q\",\"S\",\"W\",\"M\",\"V\",\"H\",],\n",
    "    6:[\"W\",\"Q\",\"S\",\"C\",\"D\",\"B\",\"J\",],\n",
    "    7:[\"F\",\"Q\",\"L\",],\n",
    "    8:[\"W\",\"M\",\"H\",\"T\",\"D\",\"L\",\"F\",\"V\",],\n",
    "    9:[\"L\",\"P\",\"B\",\"V\",\"M\",\"J\",\"F\",],\n",
    "}\n",
    "\n",
    "with open(\"input_day_5_1.txt\") as input_string:\n",
    "    input_list = list(input_string)\n",
    "    cleaned_list = []\n",
    "    for i in input_list:\n",
    "        line = i.split()\n",
    "        to_remove = [\"move\", \"from\", \"to\"]\n",
    "        line = [part for part in line if part not in to_remove]\n",
    "        line = [int(line[0]), int(line[1]), int(line[2])]\n",
    "        cleaned_list.append(line)\n",
    "\n",
    "instructions = cleaned_list\n",
    "\n",
    "for instruction in instructions:\n",
    "    num_to_move = instruction[0]\n",
    "    from_position = instruction[1]\n",
    "    to_position = instruction[2]\n",
    "\n",
    "    while num_to_move > 0:\n",
    "        crates.get(to_position).append(crates.get(from_position)[-1])\n",
    "        crates.get(from_position).pop(-1)\n",
    "        num_to_move -= 1\n",
    "\n",
    "top_crates = crates.get(1)[-1] + crates.get(2)[-1] + crates.get(3)[-1] + crates.get(4)[-1] + crates.get(5)[-1] + crates.get(6)[-1] + crates.get(7)[-1] + crates.get(8)[-1] + crates.get(9)[-1]\n",
    "print(top_crates)"
   ]
  },
  {
   "cell_type": "code",
   "execution_count": 157,
   "metadata": {},
   "outputs": [
    {
     "name": "stdout",
     "output_type": "stream",
     "text": [
      "PQTJRSHWS\n"
     ]
    }
   ],
   "source": [
    "crates = {\n",
    "    1:[\"R\",\"N\",\"P\",\"G\",],\n",
    "    2:[\"T\",\"J\",\"B\",\"L\",\"C\",\"S\",\"V\",\"H\",],\n",
    "    3:[\"T\",\"D\",\"B\",\"M\",\"N\",\"L\",],\n",
    "    4:[\"R\",\"V\",\"P\",\"S\",\"B\",],\n",
    "    5:[\"G\",\"C\",\"Q\",\"S\",\"W\",\"M\",\"V\",\"H\",],\n",
    "    6:[\"W\",\"Q\",\"S\",\"C\",\"D\",\"B\",\"J\",],\n",
    "    7:[\"F\",\"Q\",\"L\",],\n",
    "    8:[\"W\",\"M\",\"H\",\"T\",\"D\",\"L\",\"F\",\"V\",],\n",
    "    9:[\"L\",\"P\",\"B\",\"V\",\"M\",\"J\",\"F\",],\n",
    "}\n",
    "\n",
    "with open(\"input_day_5_1.txt\") as input_string:\n",
    "    input_list = list(input_string)\n",
    "    cleaned_list = []\n",
    "    for i in input_list:\n",
    "        line = i.split()\n",
    "        to_remove = [\"move\", \"from\", \"to\"]\n",
    "        line = [part for part in line if part not in to_remove]\n",
    "        line = [int(line[0]), int(line[1]), int(line[2])]\n",
    "        cleaned_list.append(line)\n",
    "\n",
    "instructions = cleaned_list\n",
    "\n",
    "for instruction in instructions:\n",
    "    num_to_move = instruction[0]\n",
    "    from_position = instruction[1]\n",
    "    to_position = instruction[2]\n",
    "\n",
    "    start = len(crates.get(from_position)) - num_to_move\n",
    "    crates_to_move = list(range(start, (len(crates.get(from_position)))))\n",
    "    moved_crates = []\n",
    "    for crate in crates_to_move:\n",
    "        moved_crates.append(crates.get(from_position)[crate])\n",
    "    for crate in moved_crates:\n",
    "        crates.get(to_position).append(crate)\n",
    "        crates.get(from_position).pop(-1)\n",
    "\n",
    "top_crates = crates.get(1)[-1] + crates.get(2)[-1] + crates.get(3)[-1] + crates.get(4)[-1] + crates.get(5)[-1] + crates.get(6)[-1] + crates.get(7)[-1] + crates.get(8)[-1] + crates.get(9)[-1]\n",
    "print(top_crates)\n",
    "    "
   ]
  }
 ],
 "metadata": {
  "kernelspec": {
   "display_name": "Python 3.10.4 64-bit",
   "language": "python",
   "name": "python3"
  },
  "language_info": {
   "codemirror_mode": {
    "name": "ipython",
    "version": 3
   },
   "file_extension": ".py",
   "mimetype": "text/x-python",
   "name": "python",
   "nbconvert_exporter": "python",
   "pygments_lexer": "ipython3",
   "version": "3.10.4"
  },
  "orig_nbformat": 4,
  "vscode": {
   "interpreter": {
    "hash": "3ad933181bd8a04b432d3370b9dc3b0662ad032c4dfaa4e4f1596c548f763858"
   }
  }
 },
 "nbformat": 4,
 "nbformat_minor": 2
}
