{
 "cells": [
  {
   "cell_type": "code",
   "execution_count": 6,
   "metadata": {},
   "outputs": [],
   "source": [
    "def get_crate_map():\n",
    "    stacks = []\n",
    "    with open(\"input_day_5_2.txt\") as file:\n",
    "        input = file.readlines()\n",
    "        for col in range(0, len(input[0])):\n",
    "            stacks.append(\"\")\n",
    "            for line in range(0,8):\n",
    "                if input[line][col] not in [\"[\", \"]\", \" \"]:\n",
    "                    stacks[col] += input[line][col]\n",
    "\n",
    "    # remove empty lists and list of trailing newlines\n",
    "    stacks = [stack for stack in stacks if stack != ''][:-1]\n",
    "    sorting = []\n",
    "    for stack in stacks:\n",
    "        sorting.append(stack[::-1])\n",
    "\n",
    "    crate_row = 1\n",
    "    crates = {}\n",
    "    for string in sorting:\n",
    "        crates[crate_row] = list(string)\n",
    "        crate_row += 1\n",
    "\n",
    "    return crates\n",
    "        "
   ]
  },
  {
   "cell_type": "code",
   "execution_count": 7,
   "metadata": {},
   "outputs": [],
   "source": [
    "def get_instructions():\n",
    "    with open(\"input_day_5_1.txt\") as input_string:\n",
    "        input_list = list(input_string)\n",
    "        cleaned_list = []\n",
    "        for i in input_list:\n",
    "            line = i.split()\n",
    "            to_remove = [\"move\", \"from\", \"to\"]\n",
    "            line = [part for part in line if part not in to_remove]\n",
    "            line = [int(line[0]), int(line[1]), int(line[2])]\n",
    "            cleaned_list.append(line)\n",
    "\n",
    "    return cleaned_list"
   ]
  },
  {
   "cell_type": "code",
   "execution_count": 8,
   "metadata": {},
   "outputs": [
    {
     "name": "stdout",
     "output_type": "stream",
     "text": [
      "HBTMTBSDC\n"
     ]
    }
   ],
   "source": [
    "crates = get_crate_map()\n",
    "\n",
    "instructions = get_instructions()\n",
    "\n",
    "for instruction in instructions:\n",
    "    num_to_move = instruction[0]\n",
    "    from_position = instruction[1]\n",
    "    to_position = instruction[2]\n",
    "\n",
    "    while num_to_move > 0:\n",
    "        crates.get(to_position).append(crates.get(from_position)[-1])\n",
    "        crates.get(from_position).pop(-1)\n",
    "        num_to_move -= 1\n",
    "\n",
    "top_crates = crates.get(1)[-1] + crates.get(2)[-1] + crates.get(3)[-1] + crates.get(4)[-1] + crates.get(5)[-1] + crates.get(6)[-1] + crates.get(7)[-1] + crates.get(8)[-1] + crates.get(9)[-1]\n",
    "print(top_crates)"
   ]
  },
  {
   "cell_type": "code",
   "execution_count": 9,
   "metadata": {},
   "outputs": [
    {
     "name": "stdout",
     "output_type": "stream",
     "text": [
      "PQTJRSHWS\n"
     ]
    },
    {
     "name": "stderr",
     "output_type": "stream",
     "text": [
      "Bad pipe message: %s [b\"\\x93\\x9d7\\xf8VS\\xa0\\xbdg\\xda\\xf6\\x14BQ\\xb3\\\\2' C\\x85\\xf5\\\\Bj\\xba%\\xe06\\xc3\\xa4(\\xc9\\x12.\\xa7\", b'\\x88\\x92z!i\\xf8\\x13\\x10\\xc4p\\x8f\\xa2\\xaa\\x00\\x08\\x13\\x02\\x13\\x03\\x13\\x01\\x00\\xff\\x01\\x00\\x00\\x8f\\x00\\x00\\x00\\x0e\\x00\\x0c\\x00\\x00\\t127.0.0.1\\x00\\x0b\\x00\\x04\\x03\\x00\\x01\\x02\\x00\\n\\x00\\x0c\\x00\\n\\x00\\x1d\\x00\\x17\\x00\\x1e\\x00\\x19\\x00\\x18\\x00#\\x00\\x00\\x00\\x16\\x00\\x00\\x00\\x17\\x00\\x00\\x00\\r\\x00\\x1e\\x00\\x1c\\x04\\x03\\x05\\x03\\x06\\x03\\x08\\x07\\x08\\x08', b'\\x08\\n\\x08\\x0b\\x08\\x04\\x08', b'\\x06\\x04\\x01\\x05']\n",
      "Bad pipe message: %s [b'']\n",
      "Bad pipe message: %s [b'']\n",
      "Bad pipe message: %s [b'\\x03\\x02\\x03\\x04\\x00-\\x00\\x02\\x01\\x01\\x003\\x00&\\x00$\\x00\\x1d\\x00 \\xa1\\x8eM\\x0f\\xc2x\\xb5\\x10\\x1arJ\\xa3\\xf1\\xff\\xd9\\xb9\\xa9)\\xe1\\x88\\x85\\xe0']\n",
      "Bad pipe message: %s [b'\\xbf\\x9bS\\x94\\xf8\\x01Z4I\\x8a\\xf2\\xe4Q\\xf6\\xb2\\xf3\\xc3\\xba HP\\x9c\\xcb\\x84\\x14\\x0bv\\xe8\\xa1\\x9a4#=\\x83%F\\xbd\\xdc\\xd1\\xd0*\\xb5X/G:\\x89\\x8d\\xef\\xeb\\x00\\x00\\x08\\x13\\x02\\x13\\x03\\x13\\x01\\x00\\xff\\x01\\x00\\x00\\x8f\\x00\\x00\\x00\\x0e\\x00\\x0c\\x00\\x00\\t127.0.0.1\\x00\\x0b\\x00\\x04\\x03\\x00\\x01\\x02\\x00\\n\\x00\\x0c\\x00\\n\\x00\\x1d\\x00\\x17\\x00\\x1e\\x00\\x19\\x00\\x18\\x00#\\x00\\x00\\x00\\x16\\x00\\x00\\x00\\x17\\x00\\x00\\x00\\r\\x00\\x1e\\x00\\x1c\\x04\\x03\\x05\\x03\\x06\\x03\\x08\\x07\\x08\\x08\\x08\\t\\x08\\n\\x08\\x0b\\x08\\x04\\x08\\x05\\x08\\x06\\x04\\x01\\x05\\x01\\x06\\x01\\x00+\\x00\\x03\\x02', b'\\x00-']\n",
      "Bad pipe message: %s [b\"o`i\\x95\\x97\\xbe\\xeeq$z\\xe9\\xb7\\xb8\\xf2\\xee\\x05\\xa1\\xf9\\x00\\x00|\\xc0,\\xc00\\x00\\xa3\\x00\\x9f\\xcc\\xa9\\xcc\\xa8\\xcc\\xaa\\xc0\\xaf\\xc0\\xad\\xc0\\xa3\\xc0\\x9f\\xc0]\\xc0a\\xc0W\\xc0S\\xc0+\\xc0/\\x00\\xa2\\x00\\x9e\\xc0\\xae\\xc0\\xac\\xc0\\xa2\\xc0\\x9e\\xc0\\\\\\xc0`\\xc0V\\xc0R\\xc0$\\xc0(\\x00k\\x00j\\xc0#\\xc0'\\x00g\\x00@\\xc0\\n\\xc0\\x14\\x009\\x008\\xc0\\t\\xc0\\x13\\x003\\x002\\x00\\x9d\\xc0\\xa1\\xc0\\x9d\\xc0Q\\x00\"]\n",
      "Bad pipe message: %s [b'\\xc4\\x8eVcCc}\\xd3\\xedG!\\xf7\\xa7ZD\\xcd\\xdc\\xa1\\x00\\x00>\\xc0\\x14\\xc0\\n\\x009\\x008\\x007\\x006\\xc0\\x0f\\xc0\\x05\\x005\\xc0\\x13\\xc0\\t\\x003\\x002\\x001\\x000\\xc0\\x0e\\xc0\\x04\\x00/\\x00\\x9a\\x00\\x99\\x00\\x98\\x00\\x97\\x00\\x96\\x00\\x07\\xc0\\x11\\xc0\\x07\\xc0\\x0c\\xc0\\x02\\x00\\x05\\x00']\n",
      "Bad pipe message: %s [b'\\xff\\x02\\x01']\n",
      "Bad pipe message: %s [b'\\x8f\\x17']\n",
      "Bad pipe message: %s [b'\\x0c\\x9b\\xc0\\x04\\xc9\\xd4\\x9d\\x18\\x88\\xce\\xbd\\xe7^\\x99\\x86\\x8d\\x0e\\xef\\x00\\x00\\xa2\\xc0\\x14\\xc0\\n\\x00', b'8\\x007\\x006\\x00\\x88\\x00\\x87\\x00\\x86\\x00\\x85\\xc0\\x19\\x00:\\x00\\x89\\xc0\\x0f\\xc0\\x05\\x005\\x00\\x84\\xc0\\x13\\xc0\\t\\x003\\x002\\x001\\x000\\x00\\x9a\\x00\\x99\\x00\\x98\\x00\\x97\\x00E\\x00D\\x00C\\x00B\\xc0']\n",
      "Bad pipe message: %s [b'4\\x00\\x9b\\x00F\\xc0\\x0e\\xc0\\x04\\x00/\\x00\\x96\\x00A\\x00\\x07\\xc0\\x11\\xc0\\x07\\xc0\\x16']\n",
      "Bad pipe message: %s [b'\\xdf\\xa9(4\\xfa\\x94L-8\\xaf\\x0e\\x01\\x0f}\\x05k\\\\!\\x00\\x00\\xf4\\xc00\\xc0,\\xc0(\\xc0$\\xc0\\x14\\xc0\\n\\x00\\xa5\\x00\\xa3\\x00\\xa1\\x00\\x9f\\x00k\\x00j\\x00i\\x00h\\x009\\x008\\x007\\x006\\x00\\x88\\x00\\x87\\x00\\x86\\x00\\x85\\xc0\\x19\\x00\\xa7\\x00m\\x00:\\x00\\x89\\xc02\\xc0.\\xc0*']\n",
      "Bad pipe message: %s [b\"\\xc0\\x0f\\xc0\\x05\\x00\\x9d\\x00=\\x005\\x00\\x84\\xc0/\\xc0+\\xc0'\\xc0#\\xc0\\x13\\xc0\\t\\x00\\xa4\\x00\\xa2\\x00\\xa0\\x00\\x9e\\x00g\\x00@\\x00?\\x00>\\x003\\x002\\x001\\x000\\x00\\x9a\\x00\\x99\\x00\\x98\\x00\\x97\\x00E\\x00D\\x00C\\x00B\\xc0\\x18\\x00\\xa6\\x00l\\x004\\x00\\x9b\\x00F\\xc01\\xc0-\\xc0)\\xc0%\\xc0\\x0e\\xc0\\x04\\x00\\x9c\\x00<\\x00/\\x00\\x96\\x00A\\x00\\x07\\xc0\\x11\\xc0\\x07\\xc0\\x16\\x00\\x18\\xc0\\x0c\\xc0\\x02\\x00\\x05\\x00\\x04\\xc0\\x12\\xc0\\x08\\x00\\x16\\x00\\x13\\x00\\x10\\x00\\r\\xc0\\x17\\x00\\x1b\\xc0\\r\\xc0\\x03\\x00\\n\\x00\\x15\\x00\\x12\\x00\\x0f\\x00\\x0c\\x00\\x1a\\x00\\t\\x00\\x14\\x00\\x11\\x00\\x19\\x00\\x08\\x00\\x06\\x00\\x17\\x00\\x03\\xc0\\x10\\xc0\\x06\\xc0\\x15\\xc0\\x0b\\xc0\\x01\\x00;\\x00\\x02\\x00\\x01\\x00\\xff\\x02\\x01\\x00\\x00g\\x00\\x00\\x00\\x0e\"]\n"
     ]
    }
   ],
   "source": [
    "crates = get_crate_map()\n",
    "\n",
    "instructions = get_instructions()\n",
    "\n",
    "for instruction in instructions:\n",
    "    num_to_move = instruction[0]\n",
    "    from_position = instruction[1]\n",
    "    to_position = instruction[2]\n",
    "\n",
    "    start = len(crates.get(from_position)) - num_to_move\n",
    "    crates_to_move = list(range(start, (len(crates.get(from_position)))))\n",
    "    moved_crates = []\n",
    "    for crate in crates_to_move:\n",
    "        moved_crates.append(crates.get(from_position)[crate])\n",
    "    for crate in moved_crates:\n",
    "        crates.get(to_position).append(crate)\n",
    "        crates.get(from_position).pop(-1)\n",
    "\n",
    "top_crates = crates.get(1)[-1] + crates.get(2)[-1] + crates.get(3)[-1] + crates.get(4)[-1] + crates.get(5)[-1] + crates.get(6)[-1] + crates.get(7)[-1] + crates.get(8)[-1] + crates.get(9)[-1]\n",
    "print(top_crates)\n",
    "    "
   ]
  }
 ],
 "metadata": {
  "kernelspec": {
   "display_name": "Python 3.10.4 64-bit",
   "language": "python",
   "name": "python3"
  },
  "language_info": {
   "codemirror_mode": {
    "name": "ipython",
    "version": 3
   },
   "file_extension": ".py",
   "mimetype": "text/x-python",
   "name": "python",
   "nbconvert_exporter": "python",
   "pygments_lexer": "ipython3",
   "version": "3.10.4"
  },
  "orig_nbformat": 4,
  "vscode": {
   "interpreter": {
    "hash": "3ad933181bd8a04b432d3370b9dc3b0662ad032c4dfaa4e4f1596c548f763858"
   }
  }
 },
 "nbformat": 4,
 "nbformat_minor": 2
}
