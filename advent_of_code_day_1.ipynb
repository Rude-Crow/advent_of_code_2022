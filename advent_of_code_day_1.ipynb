{
 "cells": [
  {
   "cell_type": "code",
   "execution_count": 234,
   "metadata": {},
   "outputs": [
    {
     "name": "stdout",
     "output_type": "stream",
     "text": [
      "69177\n"
     ]
    }
   ],
   "source": [
    "with open(\"input_day_1.txt\") as input_string:\n",
    "    input_list = list(input_string)\n",
    "    elf_position = 0\n",
    "    elf_carried_cal = 0\n",
    "    elf_list = [0]\n",
    "    for i in input_list:\n",
    "        if i == '\\n':\n",
    "            elf_position = elf_position + 1\n",
    "            elf_list.append(0)\n",
    "        else:\n",
    "            elf_list[elf_position] = int(i.removesuffix('\\n')) + int(elf_list[elf_position])\n",
    "    elf_list.sort()\n",
    "    print(elf_list[-1])\n",
    "    "
   ]
  }
 ],
 "metadata": {
  "kernelspec": {
   "display_name": "Python 3.10.7 64-bit",
   "language": "python",
   "name": "python3"
  },
  "language_info": {
   "codemirror_mode": {
    "name": "ipython",
    "version": 3
   },
   "file_extension": ".py",
   "mimetype": "text/x-python",
   "name": "python",
   "nbconvert_exporter": "python",
   "pygments_lexer": "ipython3",
   "version": "3.10.7"
  },
  "orig_nbformat": 4,
  "vscode": {
   "interpreter": {
    "hash": "916dbcbb3f70747c44a77c7bcd40155683ae19c65e1c03b4aa3499c5328201f1"
   }
  }
 },
 "nbformat": 4,
 "nbformat_minor": 2
}
