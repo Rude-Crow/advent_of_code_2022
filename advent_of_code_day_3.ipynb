{
 "cells": [
  {
   "cell_type": "code",
   "execution_count": 9,
   "metadata": {},
   "outputs": [
    {
     "name": "stdout",
     "output_type": "stream",
     "text": [
      "[['v'], ['h'], ['s'], ['V'], ['N'], ['H'], ['P'], ['v'], ['S'], ['M'], ['B'], ['f'], ['M'], ['n'], ['B'], ['D'], ['Z'], ['f'], ['Q'], ['p'], ['V'], ['Z'], ['n'], ['g'], ['B'], ['c'], ['h'], ['d'], ['T'], ['q'], ['P'], ['j'], ['D'], ['w'], ['z'], ['N'], ['M'], ['t'], ['r'], ['D'], ['l'], ['j'], ['P'], ['M'], ['S'], ['Z'], ['B'], ['f'], ['S'], ['B'], ['s'], ['p'], ['F'], ['g'], ['f'], ['C'], ['B'], ['j'], ['N'], ['q'], ['g'], ['W'], ['t'], ['b'], ['v'], ['L'], ['z'], ['D'], ['P'], ['M'], ['c'], ['r'], ['s'], ['M'], ['W'], ['M'], ['g'], ['b'], ['q'], ['Z'], ['N'], ['W'], ['B'], ['c'], ['R'], ['f'], ['v'], ['Q'], ['m'], ['F'], ['c'], ['J'], ['L'], ['H'], ['l'], ['w'], ['V'], ['P'], ['C'], ['w'], ['S'], ['p'], ['B'], ['R'], ['T'], ['w'], ['M'], ['j'], ['M'], ['T'], ['V'], ['w'], ['p'], ['h'], ['h'], ['L'], ['B'], ['g'], ['F'], ['B'], ['N'], ['P'], ['Z'], ['h'], ['P'], ['t'], ['z'], ['r'], ['t'], ['v'], ['t'], ['B'], ['z'], ['N'], ['g'], ['g'], ['L'], ['N'], ['l'], ['c'], ['t'], ['B'], ['C'], ['R'], ['g'], ['c'], ['p'], ['n'], ['s'], ['b'], ['J'], ['c'], ['v'], ['v'], ['T'], ['P'], ['R'], ['S'], ['V'], ['g'], ['s'], ['C'], ['j'], ['r'], ['B'], ['G'], ['J'], ['t'], ['H'], ['n'], ['W'], ['f'], ['Z'], ['m'], ['r'], ['w'], ['T'], ['C'], ['w'], ['v'], ['t'], ['T'], ['d'], ['n'], ['Z'], ['C'], ['b'], ['g'], ['B'], ['T'], ['h'], ['t'], ['D'], ['F'], ['s'], ['V'], ['v'], ['J'], ['P'], ['Q'], ['q'], ['f'], ['t'], ['j'], ['R'], ['M'], ['q'], ['f'], ['P'], ['t'], ['r'], ['Z'], ['q'], ['h'], ['d'], ['q'], ['W'], ['L'], ['c'], ['t'], ['T'], ['Q'], ['g'], ['v'], ['m'], ['S'], ['v'], ['Z'], ['z'], ['n'], ['b'], ['q'], ['n'], ['T'], ['R'], ['q'], ['G'], ['H'], ['g'], ['z'], ['S'], ['T'], ['l'], ['D'], ['g'], ['J'], ['J'], ['P'], ['g'], ['m'], ['h'], ['F'], ['T'], ['h'], ['H'], ['S'], ['t'], ['C'], ['h'], ['W'], ['T'], ['G'], ['R'], ['j'], ['s'], ['g'], ['F'], ['d'], ['q'], ['F'], ['q'], ['D'], ['H'], ['n'], ['q'], ['M'], ['G'], ['h'], ['f'], ['M'], ['D'], ['q'], ['t'], ['J'], ['q'], ['h'], ['w'], ['l'], ['q'], ['H'], ['f'], ['b'], ['p'], ['f'], ['h'], ['R'], ['H'], ['p'], ['v'], ['b']]\n"
     ]
    }
   ],
   "source": [
    "with open(\"input_day_3.txt\") as input_string:\n",
    "    input_list = list(input_string)\n",
    "    cleaned_list = []\n",
    "    for i in input_list: \n",
    "        cleaned_list.append(i.removesuffix('\\n'))\n",
    "\n",
    "    compartment_list = []\n",
    "    duplicate_items = []\n",
    "    common_items = []\n",
    "    for bag in cleaned_list:\n",
    "        bag_size = len(bag)\n",
    "\n",
    "        if bag_size%2 == 0:\n",
    "            comp_1 = bag[0:bag_size//2]\n",
    "            comp_2 = bag[bag_size//2:]\n",
    "\n",
    "        else:\n",
    "            comp_1 = bag[0:(bag_size//2+1)]\n",
    "            comp_2 = bag[(bag_size//2+1):]\n",
    "\n",
    "        compartment_list.append([comp_1, comp_2])\n",
    "\n",
    "        comp_1 = list(dict.fromkeys(comp_1))\n",
    "        comp_2 = list(dict.fromkeys(comp_2))\n",
    "        for item in comp_1:\n",
    "            duplicate_items = []\n",
    "            for item_2 in comp_2:\n",
    "                if item == item_2:\n",
    "                    duplicate_items.append(item)\n",
    "            duplicate_items = list(dict.fromkeys(duplicate_items))\n",
    "            if len(duplicate_items) > 0:\n",
    "                common_items.append(duplicate_items)\n",
    "            \n",
    "    print(common_items)\n",
    "    \n",
    "\n",
    "    \n",
    "    "
   ]
  },
  {
   "cell_type": "code",
   "execution_count": 11,
   "metadata": {},
   "outputs": [
    {
     "name": "stdout",
     "output_type": "stream",
     "text": [
      "7716\n"
     ]
    }
   ],
   "source": [
    "priority_map = {\n",
    "        'a':1,\n",
    "        'b':2,\n",
    "        'c':3,\n",
    "        'd':4,\n",
    "        'e':5,\n",
    "        'f':6,\n",
    "        'g':7,\n",
    "        'h':8,\n",
    "        'i':9,\n",
    "        'j':10,\n",
    "        'k':11,\n",
    "        'l':12,\n",
    "        'm':13,\n",
    "        'n':14,\n",
    "        'o':15,\n",
    "        'p':16,\n",
    "        'q':17,\n",
    "        'r':18,\n",
    "        's':19,\n",
    "        't':20,\n",
    "        'u':21,\n",
    "        'v':22,\n",
    "        'w':23,\n",
    "        'x':24,\n",
    "        'y':25,\n",
    "        'z':26,\n",
    "        'A':27,\n",
    "        'B':28,\n",
    "        'C':29,\n",
    "        'D':30,\n",
    "        'E':31,\n",
    "        'F':32,\n",
    "        'G':33,\n",
    "        'H':34,\n",
    "        'I':35,\n",
    "        'J':36,\n",
    "        'K':37,\n",
    "        'L':38,\n",
    "        'M':39,\n",
    "        'N':40,\n",
    "        'O':41,\n",
    "        'P':42,\n",
    "        'Q':43,\n",
    "        'R':44,\n",
    "        'S':45,\n",
    "        'T':46,\n",
    "        'U':47,\n",
    "        'V':48,\n",
    "        'W':49,\n",
    "        'X':50,\n",
    "        'Y':51,\n",
    "        'Z':52,\n",
    "    }\n",
    "    \n",
    "\n",
    "priority_sum = 0\n",
    "for item in common_items:\n",
    "    priority_sum = priority_sum + int(priority_map.get(item[0]))\n",
    "\n",
    "print(priority_sum)"
   ]
  },
  {
   "cell_type": "code",
   "execution_count": 11,
   "metadata": {},
   "outputs": [
    {
     "name": "stdout",
     "output_type": "stream",
     "text": [
      "{1: ['ZTmtZvZLTFNLMQMNRvZncdcHwcScJvcdHnVfwV', 'zqjqrzqjCqrjtqWhqChqrznhcfdfVnVSVgcffcgJcSgd', 'rtDGpzjjqjlrGsWqBWFRsbTPFQMTbRNRFmbs'], 2: ['FFlnlnVlmQqcBVhBRrSrGSwVdRJbztSt', 'NPPNsffWfNztRZSJNG', 'WpgpTTHDpgTDDpMLPGgMHslmBmmHcBQnFmcqhmnjlqQm'], 3: ['VlVNLlPQhtnDRPnP', 'QgqTffzZqgvgzWmqqZmGcDthtRFvnnFnhJtJJDDt', 'WGTBzSqBQTQmZBWHswpNbswLbSNCNl'], 4: ['PFzFQDdLjMzzQDhnDNmwZmqwRsmRRmMVNM', 'GtSbbtlttvvtBvtHBmqqNqVVwsVgCmRw', 'brlvctHfrlrqvGvcTpjDdFnLDhdfjLhQpn'], 5: ['fTqzgFrcmzTrTNgMzFzTrgtbMtVMVPSLVbvSStRttPVV', 'lsHnlQhplQpsHhlDJsswNwZPZZVNwvnSZSVvVS', 'BJpsGWhWQQHdGHlpWpfgrmqgNBmTTBqzTrzr'], 6: ['PLPPrDNHDBnrWNBmjDmjbqqgzjgjQC', 'GJpFwpvFFsJpwvwwGwJZJRptzdQSSZTmCjTQmTSQjjZSggQQ', 'ffwGGtJGCfLcNMNNfNLW'], 7: ['nlTzllGwlQHHGMSrrhQLcvbcghgcvL', 'fFNpttBRFFRNtJJnfNWmqbhhZrZrcjgpvLrvrvcvbr', 'JBftFFsVRWtNWRsmWtRfftGHGPDDCnTDHSCwzwVnwGSw'], 8: ['LsrZLbLmPSTZtPcc', 'zpnpljpdwhRpfNLlPWPtTPcnMWPcctTV', 'qlhNNjldqdpgqdfhjpphdsgmmrDBBJJQgHrmDHLQJb'], 9: ['ndDrsBbpqspHCjzVBCHjMj', 'LWFcQFQtVVdcCMHC', 'RLthwTWLTSLwTllRLLlLNlPpPGfrGnqDdGqsZqsZsZhb'], 10: ['jHnJLJrcBbrRHJpnLBBjdHbjfgvGwstwWwdsWWshfhFzFfhv', 'PZDQMNTMQwtgvGTGhf', 'lqlPPQZQVSQCPSCPDmLppjqRqHngLHjRgLnL'], 11: ['MfQrhdzNMfMPsNNmPmqPLCLCVLBnbP', 'WVtcVvJJVjvFZZmgGjnjLBjmnnHB', 'FFtcZRpWJcSDTwlVMhMDwrrDzM'], 12: ['bSMbrQGZwwqbrbGMdTQGMwQdfFBLDLHLHssDgsHHBJDsFfwL', 'lpPPCccvVPvccPzcWLDJFJBsBzJJHsqHjg', 'tnqlPlVlNvNZZSSrGGZb'], 13: ['NlBBBBBwmwcMgLwLVVLLLscHdnMDdbHJCbdvJbPdDDJHvn', 'ZRWQWSfGhtSjqZhffZhhRjtdvPFHvCJbFdCFFDdHJdPb', 'fpqGhQWWZRhfqRSqrpGllLcVLmscgrLwBmgCzN'], 14: ['wHHHwDNCzZwzZfpzwsswzfzvnvnMDMgMhMGGFGRVdMnvcF', 'mLtttqTPBtSJTSBQWlmcMvVdclnvhFggdGhRdn', 'QBLPSLQQWmLtTBtBSjZfsbwbHzpjGzHfpzzw'], 15: ['zDPBqBPqwzzsqlTzzPzqjttNbCPJVtPCbrvjvCZP', 'MFhMhGfFfGpWWpHhFfRpHjVNbDbJjVMjrVvVNtMtbt', 'gfRSmpggSFRgfGRphFGgfgBSBTqzSsdlTLqdsnsDBqLw'], 16: ['QTTdWZZZTrhCZrjhVt', 'SBJJNRRvvRpwwspNSpTPjCMVhhtCjGThjBjB', 'fJJpvRRwNRSwvzRzRvzSgSRNqFTFDbFmqncQTbdFfnbDQnLW'], 17: ['wSjwwjWhbhhjWjdqSVpqSndvMdmM', 'NTvPBrZgPPHDFrFHGvZHRBqVBpCQVRRdmpRppdqM', 'TgDHZPsNTWbbwsjtvw'], 18: ['HVRPRwJVppQNpGmvMvmqqq', 'WcttbWsWsdDdbFDSSWclZGvFLMvfvjfzNvLGzLmfqv', 'tglcmSldWlBQBThRQBhg'], 19: ['LDGGfPFLGsfFnGLfMzfJVccNzmcmwm', 'qggSRgtjgCRtdtNZCJMCcZwTZVcm', 'RBbHbbRRnLBDDrvN'], 20: ['pThhMtMtTsWspWTnGjpsVHPdjdjvHdgVvLDVVSjd', 'JQNrrwCFrSRLRVLnSN', 'JQcJFCfcnfQmrbblQqlthGqzpZpGTBMWTMqtst'], 21: ['DzVmzDDgsNdHHLGJhJppPPllqSgbql', 'jrBWjcQMCRchPShwSblpbW', 'ZjRrSCtnnrtBQTcrSZmGtGFFNDHmHVVmVtzz'], 22: ['GSbGbrTGRRScMlVFjfbqqjdF', 'tvDmZhtNtHDttBhCmHDJHNwlpjslMwfflvpqldsFpMlf', 'HdBhLDhJDLWWLDCSQGcrQPGccLTGcQ'], 23: ['tNzrCdJBrrtQdtgQdlQQtrnMZhMTqzHqqTFZZFqTHFMV', 'bwbsRDvfwfsfcfSFqMmqDqFVNMNVVH', 'PRvfbSjNvPWPlLllLJ'], 24: ['MjMRRNRMjZtGVGpBCMMCDV', 'vwfhFzhvcJQQwJlQSddzQwFWGqcDpCDqBqDTcGZTTVTCWG', 'dvFJzrfZJhddLNLPHsrtRbPr'], 25: ['BmbsFNBhszGgGtGl', 'MSHVwdSwZflGlcqqpM', 'QvwZCnnnSvZdCSWrNmDlPPBPDhPmjW'], 26: ['MDwpRzRwMzMsdVSjdMWWMQdW', 'gmlftnDtHnHHVWSWBjWjWgvW', 'HbtrhbbGRNDpbCDz'], 27: ['cjVGqQqVqBFhDtvB', 'ZnTTfTffZZmDhBtJZG', 'fNzbpzlHTlgHNzlRTlRNbHrWwrCwWSSdQddNjwVcjGSd'], 28: ['WWrPMhwhnjpSLCpDlSSW', 'sNGBGdmTbZNGsmbstNLZGZDBRSlqSRCfRSCqRRDDqCqp', 'NvvcGtsLdTNZmLTmdJPcnnMFjFMcrVJhMF'], 29: ['wMRQMSQZHznRsqRbWp', 'ddgDDhfDrrDdjthHmdHrzpbVCVWFpfVqCWpWqpFs', 'hdvNdHtjMLJZvJwM'], 30: ['nWzZtWzHzZWgQHMNLDMDfDBfQbdD', 'MCPmRGGhqdmNjbDN', 'FRPlMlRChCvFggWZsHsZHn'], 31: ['ZGhhjdgwgcZHsPnRnSnbWscn', 'tltlfMQQQftDFJpMQJsWJWJsnWBnRSBbrBWP', 'lfLDpQMFMNfLjGjPPgZzwh'], 32: ['HcmvWcqnHLLPDzPPHM', 'MGGSfdJRdCglfrLjrjrLzLPzlF', 'CsgRgfwgdCwhsssJBBwvcnQnQNMvQtQm'], 33: ['nrVbwgnSTSgSnrZpjpWWqmWNHlqqpV', 'BcBPhSdsDlHNtNlJNP', 'RLFCQLQRRsBDDcRdGDddhCRDfwzvSCnzrbfrMfMgznwwfbZv'], 34: ['HJLzLNwBNzNJLzBJztRGzQVnDgwsjbgwssZwnDZbDQ', 'PhvlSvvPfMRlDbDsggbSjQSg', 'mFfhMlMrfchvPPpFTPvMvPzLBHWRHJNtzJGzzHpzBtCC'], 35: ['FLsgSLzLswdFgLBbWZnJDWHcmZnnBjHM', 'rpbrrqfqpvCbqqQQvvpClblRDHmjmmjJJZZnWMJmmJmmcRMc', 'qTppQvCfhzSVVTzbdL'], 36: ['ThTJtlqfDrDtffwqRCFCCnLwdnmpzRdF', 'WPQSSFsGMgQZWvFQgZgZQcCdmmzLMLCpNzCCddmLzdzm', 'cvVPGPQQGsZsgGPjVFccbHhThJHhDqfhDDjHqDrr'], 37: ['CgnCCnPMnMtGHDbMFQ', 'zLpwpRTwwRwhRchHwmqmGvvGbqmTmNQqvq', 'sHdhzlwrRVrdLzRrprrfjgfjVBnBCfSBZZgPfJ'], 38: ['SPMdWwWPrZwdrrWrSPLFDfgbQDfwDFfFglDQ', 'qLGBtGLpjzqmvQbvvpDvfFpR', 'jhLqqHBLGjtLqSZCssSTZZMshP'], 39: ['MhJCpPDpRRFRzQQNNqbcZjNZmVhjNm', 'LLSlLnGDmNqLbNjb', 'sfBngrBSTTSnSGHlTsHBGsBpFFdRdQPDCFPWRMzzdQWM'], 40: ['ZQtmgtWfPcgPgcsb', 'pvMhFThpHVTvPbcFcFJLJDsd', 'MTVHchVVHjHHTcpjMVBjjnQnGqQZnlqBmrWQQBffQQ'], 41: ['HfcRNJpJfhCmpGSqqGNjsjBnQl', 'tTdPwwtLTrrTVPSnQsbGPsnnlFllFQ', 'VvvTSTwWMrSZVwwrrmRmczJchHcHCZhRzD'], 42: ['wfRwhmLRnvrHqHhV', 'bJlBHlWlHMBPJzDlzMMJJSBlFnrGVrqspGGvpVGPVpGsVqvp', 'DWdStDMztCCHgZCtmZ'], 43: ['MHdsznVDDfcjcjDcdDjmMSCQwQpCpFCvqSZQqFzQpQ', 'lhJnLJJnTNrWTRqvqqPrFwZvwqQp', 'NghhtJBtnWLRTNjmcMDtjdsMfGDH'], 44: ['jgsvPffVmHfDqPSrNwnQwnwNhSvw', 'PZbGbCdcGdRCGtntQLQQLLwtpLNw', 'RbcPFBRFcdZBBJDBmTHjsD'], 45: ['dTTFJdzhmmmQpzVz', 'jtNLcctGGjtfrnVMsNQNQVVWnv', 'GcrcrfLtDggLftDFhZFdJFHJBVFBgZ'], 46: ['TTbqTgqCqZCrwmhQnnmrgh', 'MhpfsMLhfmrznLrQrF', 'RsStRMtjpHMfDtWsWsNDppsqlZqBlhNlbcNdTPClPqcvBP'], 47: ['lRhZPgnpRGZlSrmsLSvSzLVl', 'wwHdHCfDQCJHdwdDMdHCcDsLmNVvzVsWrcVNcVzLbrLz', 'dMCCwCtJdwDQJMtjhnvhpPhRZBhR'], 48: ['pBqMZfDffmBnvnNmPt', 'rhwLHCChrLPCMNWMCNmW', 'GSMVRSVwHLMRJDQJTZlJZR'], 49: ['sfstzPGRRBSngMfQLNNqgWLQLZZNgq', 'scVDjjjCDTVhHlDhHdvvjwjHrZmWQmJmrJJWqNqLJbrcQqZq', 'VvHlVHldTjvhpVplhVThhwjlPFSzPfGzpGBnsRffRRBPPGGF'], 50: ['WNFNfnWTSLSJTnWShTvVZCnvrdPrZvddVCrt', 'QwsMjppcpHCPdHsvPZ', 'lcwMGgpcGbzQpMgQwbDjDQZSJTRfShffWNJSSNFFbhSb'], 51: ['JDNgTgqDTggQbQGbZDWbJmVJrPVfPjlPfPwlljJC', 'FZzHFSznZZtptHzcSmCVrwfPVcwwVrCcdm', 'nMSStvnZFSHpLLtBtMzHnMWQvNhgDgGNRGNhgqRWTgqg'], 52: ['SJcrhvbBLBLrDpllvnwHQRnllHnQ', 'ffsjfMMZfVdCCgCfgTzmzslRtwFwFtTnqqHTJRQnqRqq', 'CVPgmdggVjCJSrhrbrPrrSLW'], 53: ['LPtcLtgddLMRRCMRpTBRrZnppvvGRvBw', 'WNNJjDjqSjJSqWqzNqzlSlBTGGFvrppSrwTFpn', 'qbNDWNNHbJqVtctwVmsfLCLP'], 54: ['FvSSLMqgvVSQjQfgwpwWpj', 'BthszRPRRNbNtzmHRbHNRNPfwJGcsswWQpffJpfsJcQFwJ', 'bBtzPmRrbBRHtNCzPhqdCLFMLSSvdnvCTnML'], 55: ['VPHWJPDjVLDDjDSFDJhgdnNGdbblzTzNjlnNbl', 'ZprsRZMQwwmGZsvtQZgTfggqnbfdTzrbqlTd', 'GZMtsscmsRZswwBQHBhDDJJPPCPWSWCJ'], 56: ['mNDNNmmVMSVgGgGGqsqGLhQqsLGhLq', 'nZBTZpJPhCpnnrsqbbcfczJfFccz', 'HpBZZRPRHjnPPjrHnRtCZnBdShDVlMDNDgVmtmDdVDWSdN'], 57: ['tBftztmztGBBCBSGHBmhvHHcchbshhThpbLJHJ', 'wwzMrrMnQdldVdMvJTcLNnphphbLJv', 'ZzwPVrWQlwrdStGGCWqDSSGW'], 58: ['QwfrQPvhwPfzQrvWWpQpvVGGTDGsjbgNNcbfsGTsDFgG', 'CtddSdZMRRdnJhRnHtZtlRMbGGDjDgggjNTZDNgTGFgGjc', 'mdmdCnHhVWmLmwwL'], 59: ['zLcWSWFcPJLWrWLSZrJLjVjHtjVsrdtstHdtVQgg', 'nChlwwnmhlCNqhhjHMgDjVVdwMjdtd', 'CNnBmNNThhhdhCdlBGGlGvNpcJbJLSbcZzcFJzpJTWPbzc'], 60: ['LdPZTPVpLCVTtCNsNsfFnlDC', 'SMwqcqcWQMbMhWQzBnsNfsFwrnnNNlrs', 'WMMWhvQRNNNjvLgZ'], 61: ['DWFGzrtfsZHZZMLt', 'pNwNzNCNTpppmnvNMTLVjHLBLLjMRTLH', 'PPdlPmJJNNClDdcdDDfWhzrW'], 62: ['nSJVSHQQnwLThnhrML', 'ddsjfRdGZjmGjRTwwTZhwrMwWwtb', 'qCdfRdMmgssPfjsdjdPspBzQpScSSCBpzNBQzcQz'], 63: ['fJnmRMJrlrmRmTRmbqssWVdqNVQdswdNNb', 'GZggFHGhHHgHSFvtHPPPsfwgwNsVqjqNpNjNNssN', 'PPSPDDBPBmBMlLfmLr'], 64: ['BdqdCBqqCVPVTZBrlJcTcTJTcfcbwwmcgv', 'WjGGLzLMhpWQmRGhpHfbhcDhHHHhgcsbJD', 'tQzSGjWRzWBntntrZmVB'], 65: ['clfLQLgfzfTLDMwNrNrrNDGCGG', 'tmbpFtBvvmvdQQdFQwMJCG', 'SnbtnqnSbnQQsBqzgLgVsLZTLTPfVg'], 66: ['QnQBQQBVzqqzpmfgBpnqSDFPjhhWsFVhlsFFsDstFs', 'MGGrTHcvRTTrrrCDpjvWtFPlFlsvjp', 'bZbpTpJJBBQmBmJf'], 67: ['dNVgDdVtPcNPhgTLPLpTPlnTHHRn', 'WrvjvwjWwfwWjGJsrwBjQJjTQLbnSTTmpTRQSTClHTbLmn', 'JqWWGvBJBwGJfJJGvwqZZddFtDFhgDqZhHNM'], 68: ['VwJcNgbfvfJbfcmGLZfPhZLfZGTDhP', 'CnnrlBlprsBnzQFntnZLqDhZZqThWGtWWSPL', 'FllFdCjzlsCzjJNJGGJwHHVg'], 69: ['fTbVBmNJCJRVbTmbfJFHsDjQHDHQjnQRsvDn', 'cLWcrGtttddMPhrPhPtPrtzsnSQQBvHjFpFSpDHsMjnvjD', 'PrPgPdhGWLrrqgdqcVCffbNblBwfVmwqwC'], 70: ['gmBfbmlbBDqrdfrDcJ', 'PwVWrQphQWWhQsJFcMPqzDdcJq', 'QWCSSHpSQWCttQpCRCHNSlZBtrmBZTjvGgZjmBZjBn'], 71: ['JrnhMPvtVtPVHJGrBrQwTmQmRGGB', 'pSSZCFClCbbSLbljZlSlFFszzBwcZNwTzQNDmBwGTBNTBz', 'ldsCCjpFjCqdLgsFjpsLFQgtnfqtJvnMtnvhWnHHMnnVWV'], 72: ['hzNHzHjWNzwHjjhprpGvGgvGvvpv', 'PLBVVRPDLdrgCdMrdrdC', 'FmBTqTmLPrsFqTBDcTTVtNNJztqWQNQtWWtJqNNz'], 73: ['fFffFvFBgHQWHdvfGglBWbqbPSSbSwVntPhZwwbS', 'jJCMzNMCjNCLNMjjphPSPqhbqnwPZLSqZh', 'rNpJJDzpcNMzzdBnGcQTccBvgv'], 74: ['FRFMwsrzVtwstgbCHHJJPgNb', 'hfZGhZDnnTTHTCCNzJjH', 'hppDvznmZphZQVFQwFVWlRqFls'], 75: ['jrjrgdHdFBZsBlcCGghWNgpgbCCp', 'QwJJqQQMLwPTwLMMwzvzwwzhCWbvcNcCChWpchWbNGfFff', 'qqFQJTmwJSPjZsrlnBjdHm'], 76: ['QfffRppWfHpQSrWVpSGmGMMccSjBjmmGmc', 'qdzLvbwzwdsWwnFdBBcBhMjMDvBBcBhc', 'bPdZPqddqzFsZVRptZZQHVWNpN'], 77: ['BzBQQHNjTSzzJDDFZFgJDJ', 'qLvCnLpfCpqCnLJhntRglFncDrGrllmZFZlDrc', 'JpqvfhRhLddfpbbtsdJWjHSwHHTNSQNPTVHQTb'], 78: ['qVQCCVlQZWgHZMqgqWlrtScFwrmtmcJqSSsSJS', 'MzdnddpNLzhRpzbzNPPBbPScjcnmrwSFjSjSJFtrwjcF', 'ddTzRMPLdLbvhBRdLWGQClVVCWQZQDTGGf'], 79: ['DHHTsldDNdPnVDCRDCNHllHwcMpprSMpRmphhRWhrhmzSS', 'qJLBqQLvJLQgftgPjJrhrMMWSmWMmMrrSqrc', 'FjfFftgLBjJPBLQZGvvZtNClnTTNGCdHTbCCNsnslH'], 80: ['jHHNsNqhjsShsshdRRCDMfMbCWHBrGGC', 'TJQFmnpgmTpBDCgCMCDZCGDC', 'FwpQzwQTmVvwTJmFJzTcQSdhBNztNPNjSlqLhBNhSh'], 81: ['vBCfSDcRMfRcRHSRRZZtPwrWWNtdSmrNVGSdwm', 'gbLnTzqTbjhGqFzgWrtttQtrPQTtNPmP', 'zbhjzglgzzlBGcsflsCl'], 82: ['jNHDNNHjVGVDNQFDTQSFZzDQTd', 'vvLwhbnpvPPgClwnfFTmTZQgffFFtTfc', 'LrhrLvwrnJvhCHVVRZNMjsRJVB'], 83: ['ShfcBWfvdhhJBBVwCJjHTRNwRVNC', 'qQzlDqMDDDslPqGVLTNZVpPwTRZZpV', 'bgbDbsqzsDTcfrgFFdgg'], 84: ['vlRHvvHwvMMMTTlvjmRtBjSJmSnDnpdrpSSrJJnDQrLp', 'cPfCgZZzNzzcGhNszcTPNZLrnVSJpJhDrrhSSQSpDDQn', 'FbTgbGcgNgcFbPFHMqvjjRtjRWvFvt'], 85: ['fZTnqfFFDNglcjdjZcfLGQJBwrGGQwbGQTBBJz', 'VhvfvsPpWRChmphvRGBbBLGhSbLrBQBSwb', 'pCsCsHvsstPsfRMMMtmDqFjngdFZqDHFnNFFjl'], 86: ['PVVwffMlfGWMDDSwfDwVpRpsZRjBHgpSsjJSpBSp', 'TdnFbqTFdmbjctcqcbRBZtJJZgsBzBBzvgHJ', 'bNmbcqnnbNFLChCVCfjDfWlMjVDPCr'], 87: ['JBLLjBQccLLJhcBDDlSrdFDsVhrVsR', 'HgNWCgqWGbvCRRZvGWvZmszsSlrWdSdFrWzSldDF', 'qvGCZGHggRNHvGTgvLnBjpjjPJwTPjLcJj'], 88: ['GCGwQrwBZMZdGVdLzbqbbp', 'TRfTTCtgcDmhtDmsTDVSbvpLdNpzNVRqVdVL', 'CfDJjscgTcsjfhtFZljPZWZMWPlZjQ'], 89: ['WsrjjfRfjjZjwjWjBpDpVpVhMBsMMSBT', 'JgmqHnCHHPCCtCJgSZMgZppDTgzvzZMz', 'HCGCGqqqCtmnHnqLFHWjlFrWRRbfjZccNWrR'], 90: ['BJBfSfPLPvdhvrbbvpDsHgDTzgpdzgZpgN', 'cVcmRnCWCqGngHpZsZsTsqNN', 'jmGCVwWjjnWFMjGwcwmrLJbBJPbLSrPPTbFBTr'], 91: ['SPZmmtlmqjZlZMwhlrtggqGGcCLCpfGLgqdCqF', 'FBBVDVTVDJfgcddLCDdp', 'zzVHvVNTbWJJTTRbVWBFJbWHmwmSPlMjPSShjlhMhhrrml'], 92: ['GJZJZTsnhsDJtVZdtsZJZrBCQpLjQgBnrQgjCjQQQj', 'RPSfqcRShHbFcPSfBqLLprBCwrQQQCqg', 'zPzPRHbFPcRRRHPclMhSfvfZsJZVTTZsJNVMGWGVdGTWWD'], 93: ['lCZrCLWCwVllGzWPPBMTFpsbGdsTpsbNMgFb', 'RDjtjHcHjcHctDRtjnhtnHTgMqTMqhTbdbdZbgFqZdMN', 'vfDmvfjtmvtcHmjZfSRZHQzBLrVLCJLJLfJBPzVJlwPw'], 94: ['JMTHVZMWNSCwCwMS', 'nsddQbDCnQQdDBPdCQCSvwpDvwffhfSvpmppvp', 'BssqBFtqRHgTqVRC'], 95: ['cWTTthtrgrzpCdCddtpz', 'SSSLNJLGLSLfCJfJFQCJzQ', 'swMPMZVMMSlMSZMqVSSHznzcqgzWTHgTnhbnrr'], 96: ['RJjjgMjWShPqchtbVBPV', 'DDddwCnZMHLLvDnfLrvvbVbbBtpwVBVPwtVpbcbb', 'zrvnvLrlZCHrfZZLffHZHHTsTmsQgFQSFTMjjQlFTRmR'], 97: ['zhTTMLRVTzLbVqwVRJgDQQsSCgCDNgsZCpqp', 'rrmrBmmWrWnHjWnGWrnGnhDHSQgNSpQsCgSNgtNtDDHZ', 'fBrGPGmGPBcTMfLhJVTc'], 98: ['TbTCjTBSbCncHsDZDZPhZbzv', 'rMwplFdlWWJMJzhhpGtHtvHSSP', 'fMMfwWdWrNfJNdlVgMcTLTmLffjTqnLScCjL'], 99: ['SwhTllwJDwqqBWLBbNtfhjBB', 'mvllZMmRMZGFZRfctLWtWttzfNLR', 'MGvHMCGpVnFGlgvVFFnpnGmmsHrDJJdSsqPqJSqDJJdTTDqD'], 100: ['QTTcqJZJhHSpShhFpFzjDDwwsFzpdg', 'NBMnBvmBPvwrqvgvvqgD', 'bNNGmWmbbClQTQRqchhQbf']}\n"
     ]
    }
   ],
   "source": [
    "with open(\"input_day_3.txt\") as input_string:\n",
    "    input_list = list(input_string)\n",
    "    cleaned_list = []\n",
    "    for i in input_list: \n",
    "        cleaned_list.append(i.removesuffix('\\n'))\n",
    "\n",
    "    group_dict = {}\n",
    "    group_palce = 1\n",
    "    group_list = []\n",
    "    for i in cleaned_list:\n",
    "        if len(group_list) == 3:\n",
    "            group_dict[group_palce] = group_list\n",
    "            group_list = []\n",
    "            group_palce = group_palce + 1\n",
    "        group_list.append(i)\n",
    "\n",
    "    group_dict[group_palce] = [cleaned_list[-3], cleaned_list[-2], cleaned_list[-1]] #added due to weird error not adding last group\n",
    "    print(group_dict)\n",
    "    \n",
    "        "
   ]
  }
 ],
 "metadata": {
  "kernelspec": {
   "display_name": "Python 3.10.4 64-bit",
   "language": "python",
   "name": "python3"
  },
  "language_info": {
   "codemirror_mode": {
    "name": "ipython",
    "version": 3
   },
   "file_extension": ".py",
   "mimetype": "text/x-python",
   "name": "python",
   "nbconvert_exporter": "python",
   "pygments_lexer": "ipython3",
   "version": "3.10.4"
  },
  "orig_nbformat": 4,
  "vscode": {
   "interpreter": {
    "hash": "3ad933181bd8a04b432d3370b9dc3b0662ad032c4dfaa4e4f1596c548f763858"
   }
  }
 },
 "nbformat": 4,
 "nbformat_minor": 2
}
