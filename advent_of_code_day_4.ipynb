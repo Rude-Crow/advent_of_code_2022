{
 "cells": [
  {
   "cell_type": "code",
   "execution_count": 19,
   "metadata": {},
   "outputs": [
    {
     "name": "stdout",
     "output_type": "stream",
     "text": [
      "487\n",
      "849\n"
     ]
    }
   ],
   "source": [
    "with open(\"input_day_4.txt\") as input_string:\n",
    "    input_list = list(input_string)\n",
    "    cleaned_list = []\n",
    "    for i in input_list:\n",
    "        part_1, part_2 = i.split(',')\n",
    "        cleaned_list.append([part_1, part_2.removesuffix('\\n')])\n",
    "    \n",
    "    count_1 = 0\n",
    "    count_2 = 0\n",
    "    for pair in cleaned_list:\n",
    "        range_1 = pair[0].split('-')\n",
    "        range_2 = pair[1].split('-')\n",
    "        range_1 = int(range_1[0]), int(range_1[1])\n",
    "        range_2 = int(range_2[0]), int(range_2[1])\n",
    "        range_1 = list(range(range_1[0], (range_1[1]+1)))\n",
    "        range_2 = list(range(range_2[0], (range_2[1]+1)))\n",
    "        \n",
    "        if len(range_1) > len(range_2):\n",
    "            if all(item in range_1 for item in range_2):\n",
    "                count_1 += 1\n",
    "        else:\n",
    "            if all(item in range_2 for item in range_1):\n",
    "                count_1 += 1\n",
    "\n",
    "        if len(range_1) > len(range_2):\n",
    "            if any(item in range_1 for item in range_2):\n",
    "                count_2 += 1\n",
    "        else:\n",
    "            if any(item in range_2 for item in range_1):\n",
    "                count_2 += 1\n",
    "\n",
    "    print(count_1)\n",
    "    print(count_2)"
   ]
  }
 ],
 "metadata": {
  "kernelspec": {
   "display_name": "Python 3.10.4 64-bit",
   "language": "python",
   "name": "python3"
  },
  "language_info": {
   "codemirror_mode": {
    "name": "ipython",
    "version": 3
   },
   "file_extension": ".py",
   "mimetype": "text/x-python",
   "name": "python",
   "nbconvert_exporter": "python",
   "pygments_lexer": "ipython3",
   "version": "3.10.4"
  },
  "orig_nbformat": 4,
  "vscode": {
   "interpreter": {
    "hash": "3ad933181bd8a04b432d3370b9dc3b0662ad032c4dfaa4e4f1596c548f763858"
   }
  }
 },
 "nbformat": 4,
 "nbformat_minor": 2
}
